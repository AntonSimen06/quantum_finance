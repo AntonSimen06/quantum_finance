{
 "cells": [
  {
   "cell_type": "code",
   "execution_count": 13,
   "id": "1ab0c718",
   "metadata": {},
   "outputs": [
    {
     "name": "stdout",
     "output_type": "stream",
     "text": [
      "Requirement already satisfied: pyqubo in c:\\users\\andros\\anaconda3\\lib\\site-packages (1.0.13)\n",
      "Requirement already satisfied: numpy>=1.17.3 in c:\\users\\andros\\anaconda3\\lib\\site-packages (from pyqubo) (1.20.1)\n",
      "Requirement already satisfied: Deprecated>=1.2.12 in c:\\users\\andros\\anaconda3\\lib\\site-packages (from pyqubo) (1.2.13)\n",
      "Requirement already satisfied: dimod<0.11,>=0.9.14 in c:\\users\\andros\\anaconda3\\lib\\site-packages (from pyqubo) (0.10.7)\n",
      "Requirement already satisfied: six>=1.15.0 in c:\\users\\andros\\anaconda3\\lib\\site-packages (from pyqubo) (1.15.0)\n",
      "Requirement already satisfied: dwave-neal>=0.5.7 in c:\\users\\andros\\anaconda3\\lib\\site-packages (from pyqubo) (0.5.8)\n",
      "Requirement already satisfied: wrapt<2,>=1.10 in c:\\users\\andros\\anaconda3\\lib\\site-packages (from Deprecated>=1.2.12->pyqubo) (1.12.1)\n",
      "Requirement already satisfied: dwave-preprocessing<0.4,>=0.3 in c:\\users\\andros\\anaconda3\\lib\\site-packages (from dimod<0.11,>=0.9.14->pyqubo) (0.3.1.post0)\n",
      "Requirement already satisfied: pyparsing<3.0.0,>=2.4.7 in c:\\users\\andros\\anaconda3\\lib\\site-packages (from dimod<0.11,>=0.9.14->pyqubo) (2.4.7)\n",
      "Note: you may need to restart the kernel to use updated packages.\n"
     ]
    }
   ],
   "source": [
    "pip install pyqubo"
   ]
  },
  {
   "cell_type": "code",
   "execution_count": 14,
   "id": "3586fa68",
   "metadata": {},
   "outputs": [],
   "source": [
    "from qat.lang.AQASM import Program, CNOT, H, RX, RY, RZ\n",
    "from qat.qpus import get_default_qpu\n",
    "import numpy as np\n",
    "from numpy import linalg\n",
    "from qat.qpus import PyLinalg\n",
    "import qiskit\n",
    "from qiskit import *\n",
    "from qiskit.aqua.components.optimizers import COBYLA,SLSQP,SPSA\n",
    "from qiskit.visualization import plot_histogram\n",
    "import numpy as np\n",
    "from numpy import pi\n",
    "import matplotlib.pyplot as plt\n",
    "import scipy\n",
    "from scipy import optimize\n",
    "\n",
    "%matplotlib inline"
   ]
  },
  {
   "attachments": {
    "image.png": {
     "image/png": "[encoded data removed]"
    }
   },
   "cell_type": "markdown",
   "id": "b58205d3",
   "metadata": {},
   "source": [
    "# Otimização de Portfólio\n",
    "\n",
    "A função objetivo para a otimização de portfólio pode ser modelada como uma função quadrática binária irrestrita. Essa função,termos do retorno, orçamento total e a matriz de covariância do portfólio, pode ser expressa como\n",
    "\n",
    "![image.png](attachment:image.png)\n",
    "\n",
    "## 1. Quantum Approximate Optimization Algorithm (QAOA)"
   ]
  },
  {
   "cell_type": "code",
   "execution_count": 15,
   "id": "8285f061",
   "metadata": {},
   "outputs": [],
   "source": [
    "#matriz de covariancia\n",
    "cov = [[1.08774352e-03, 2.59532811e-04, 1.80247155e-04, 3.21724369e-04],\n",
    "       [2.59532811e-04, 4.43192629e-04, 7.43211072e-05, 2.27911525e-04],\n",
    "       [1.80247155e-04, 7.43211072e-05, 3.89444953e-04, 1.37915422e-04],\n",
    "       [3.21724369e-04, 2.27911525e-04, 1.37915422e-04, 8.75437564e-04]]\n",
    "\n",
    "#retornos e  outros parametros da F.O.\n",
    "mu = [0.31542042, 0.0571331 , 0.11430001, 0.30109367]\n",
    "q=0.5\n",
    "B=2\n",
    "lamb=1\n",
    "\n",
    "#cria as variaveis binarias\n",
    "from pyqubo import Spin, Binary\n",
    "s1, s2, s3, s4 = Spin(\"s1\"), Spin(\"s2\"), Spin(\"s3\"), Spin(\"s4\")\n",
    "x1, x2, x3, x4 = Binary(\"x1\"), Binary(\"x2\"), Binary(\"x3\"), Binary(\"x4\")\n",
    "X=[x1,x2,x3,x4]\n",
    "\n",
    "# escreve o QUBO\n",
    "EN = (mu[0]*X[0] + mu[1]*X[1] + mu[2]*X[2] + mu[3]*X[3] - \n",
    "         q*(cov[0][1]*X[0]*X[1] + cov[0][2]*X[0]*X[2] + cov[0][3]*X[0]*X[3] + cov[1][2]*X[1]*X[2] + \n",
    "        cov[1][3]*X[1]*X[3] + cov[2][3]*X[2]*X[3]) - \n",
    "             lamb*(B - X[0] - X[1] - X[2] - X[3]))\n",
    "\n",
    "# cria o modelo e transforma de QUBO para Ising\n",
    "model = EN.compile()\n",
    "linear, quadratic, offset = model.to_ising()\n",
    "\n",
    "# coeficientes que serão usados no Operador Gamma\n",
    "coefs=[linear['x1'],linear['x2'],linear['x3'],linear['x4'],\n",
    "      quadratic[('x1', 'x2')],quadratic[('x3', 'x1')],quadratic[('x4', 'x1')],\n",
    "       quadratic[('x3', 'x2')], quadratic[('x4', 'x2')],quadratic[('x4', 'x3')]]\n",
    "\n"
   ]
  },
  {
   "cell_type": "code",
   "execution_count": 16,
   "id": "e11b6be4",
   "metadata": {},
   "outputs": [
    {
     "data": {
      "text/html": [
       "<pre style=\"word-wrap: normal;white-space: pre;background: #fff0;line-height: 1.1;font-family: &quot;Courier New&quot;,Courier,monospace\">                                                                                                                   ░ ┌─────────────┐\n",
       "q_0: ──■─────────────■────■─────────────■────■──────────────────────■──────────────────────────────────────────────░─┤ RZ(0.65762) ├\n",
       "     ┌─┴─┐┌───────┐┌─┴─┐  │             │    │                      │                                              ░ └┬────────────┤\n",
       "q_1: ┤ X ├┤ RZ(0) ├┤ X ├──┼─────────────┼────┼──────■───────────────┼────■────■─────────────■──────────────────────░──┤ RZ(0.5285) ├\n",
       "     └───┘└───────┘└───┘┌─┴─┐┌───────┐┌─┴─┐  │    ┌─┴─┐  ┌───────┐  │  ┌─┴─┐  │             │                      ░  ├────────────┤\n",
       "q_2: ───────────────────┤ X ├┤ RZ(0) ├┤ X ├──┼────┤ X ├──┤ RZ(0) ├──┼──┤ X ├──┼─────────────┼────■─────────────■───░──┤ RZ(0.5571) ├\n",
       "                        └───┘└───────┘└───┘┌─┴─┐┌─┴───┴─┐└───────┘┌─┴─┐└───┘┌─┴─┐┌───────┐┌─┴─┐┌─┴─┐┌───────┐┌─┴─┐ ░ ┌┴────────────┤\n",
       "q_3: ──────────────────────────────────────┤ X ├┤ RZ(0) ├─────────┤ X ├─────┤ X ├┤ RZ(0) ├┤ X ├┤ X ├┤ RZ(0) ├┤ X ├─░─┤ RZ(0.65046) ├\n",
       "                                           └───┘└───────┘         └───┘     └───┘└───────┘└───┘└───┘└───────┘└───┘ ░ └─────────────┘</pre>"
      ],
      "text/plain": [
       "                                                                                                                   ░ ┌─────────────┐\n",
       "q_0: ──■─────────────■────■─────────────■────■──────────────────────■──────────────────────────────────────────────░─┤ RZ(0.65762) ├\n",
       "     ┌─┴─┐┌───────┐┌─┴─┐  │             │    │                      │                                              ░ └┬────────────┤\n",
       "q_1: ┤ X ├┤ RZ(0) ├┤ X ├──┼─────────────┼────┼──────■───────────────┼────■────■─────────────■──────────────────────░──┤ RZ(0.5285) ├\n",
       "     └───┘└───────┘└───┘┌─┴─┐┌───────┐┌─┴─┐  │    ┌─┴─┐  ┌───────┐  │  ┌─┴─┐  │             │                      ░  ├────────────┤\n",
       "q_2: ───────────────────┤ X ├┤ RZ(0) ├┤ X ├──┼────┤ X ├──┤ RZ(0) ├──┼──┤ X ├──┼─────────────┼────■─────────────■───░──┤ RZ(0.5571) ├\n",
       "                        └───┘└───────┘└───┘┌─┴─┐┌─┴───┴─┐└───────┘┌─┴─┐└───┘┌─┴─┐┌───────┐┌─┴─┐┌─┴─┐┌───────┐┌─┴─┐ ░ ┌┴────────────┤\n",
       "q_3: ──────────────────────────────────────┤ X ├┤ RZ(0) ├─────────┤ X ├─────┤ X ├┤ RZ(0) ├┤ X ├┤ X ├┤ RZ(0) ├┤ X ├─░─┤ RZ(0.65046) ├\n",
       "                                           └───┘└───────┘         └───┘     └───┘└───────┘└───┘└───┘└───────┘└───┘ ░ └─────────────┘"
      ]
     },
     "execution_count": 16,
     "metadata": {},
     "output_type": "execute_result"
    }
   ],
   "source": [
    "# OBS: NESSA CÉLULA, O QISKIT É USADO APENAS PARA VIZUALIZAÇÃO DO CIRCUITO\n",
    "\n",
    "num_assets=4\n",
    "def gamma_op(gamma):\n",
    "    num_q=num_assets\n",
    "    qc_gamma=QuantumCircuit(num_q)\n",
    "    # iteration between p0 and p1\n",
    "    \n",
    "    for i in range(num_q):\n",
    "        for j in range(num_q):\n",
    "            if(i<j):\n",
    "                qc_gamma.cx(i,j)\n",
    "                qc_gamma.rz(gamma*coefs[j+4],j)\n",
    "                qc_gamma.cx(i,j)\n",
    "    qc_gamma.barrier()\n",
    "    for i in range(num_q):\n",
    "        qc_gamma.rz(coefs[i],i)\n",
    "\n",
    "    return qc_gamma\n",
    "\n",
    "guess=0\n",
    "gamma_op(guess).draw(fold=-1)"
   ]
  },
  {
   "cell_type": "code",
   "execution_count": 17,
   "id": "0f502984",
   "metadata": {},
   "outputs": [],
   "source": [
    "# IMPLEMENTAÇÃO DO CIRCUITO VARIACIONAL NO MYQLM\n",
    "def var_circuit(gamma, beta, num_layers, num_qubits):\n",
    "    qprog = Program()    \n",
    "    qubits = qprog.qalloc(num_qubits)\n",
    "    \n",
    "    #estado inicial: |+>^n\n",
    "    for qubit in range(num_qubits):\n",
    "        qprog.apply(H, qubits[qubit])\n",
    "\n",
    "    for layer in range(num_layers):            \n",
    "        #operador gamma\n",
    "        \n",
    "        for i in range(num_qubits):\n",
    "            for j in range(num_qubits):\n",
    "                if(i<j):\n",
    "                    qprog.apply(CNOT, qubits[i], qubits[j])\n",
    "                    qprog.apply(RZ(gamma[layer]*coefs[j+4]), qubits[j])\n",
    "                    qprog.apply(CNOT, qubits[i], qubits[j])\n",
    "        for i in range(num_qubits):\n",
    "            qprog.apply(RZ(gamma[layer]*coefs[i]), qubits[i])\n",
    "        \n",
    "        # operador beta (forma variacional: emaranhamento linear)\n",
    "        for i in range(num_qubits):\n",
    "            qprog.apply(RY(beta[layer]), qubits[i])        \n",
    "        for i in range(num_qubits-1):\n",
    "            qprog.apply(CNOT, qubits[i], qubits[i+1])\n",
    "        qprog.apply(CNOT, qubits[num_qubits-1], qubits[0])        \n",
    "        for i in range(num_qubits):\n",
    "            qprog.apply(RY(beta[layer]), qubits[i])\n",
    "    \n",
    "    return qprog"
   ]
  },
  {
   "cell_type": "code",
   "execution_count": 18,
   "id": "51915c58",
   "metadata": {},
   "outputs": [],
   "source": [
    "num_assets=4\n",
    "num_qubits = num_assets\n",
    "num_layers = 8\n",
    "gamma_size = num_layers\n",
    "beta_size = num_layers"
   ]
  },
  {
   "attachments": {
    "image.png": {
     "image/png": "[encoded data removed]"
    }
   },
   "cell_type": "markdown",
   "id": "22e2f037",
   "metadata": {},
   "source": [
    "![image.png](attachment:image.png)"
   ]
  },
  {
   "cell_type": "code",
   "execution_count": 19,
   "id": "efdbfefa",
   "metadata": {},
   "outputs": [],
   "source": [
    "# ENERGIAS DO HAMILTONIANO QUE SERÃO CALCULADAS PARA OS AUTOESTADOS MEDIDOS\n",
    "\n",
    "def energy(x,num_qubits=num_qubits):   \n",
    "    H = -((mu[0]*x[0]+mu[1]*x[1]+mu[2]*x[2]+mu[3]*x[3]) - \n",
    "          q*(cov[0][1]*x[0]*x[1] + cov[0][2]*x[0]*x[2]+ \n",
    "             cov[0][3]*x[0]*x[3] + cov[1][2]*x[1]*x[2]+\n",
    "             cov[1][3]*x[1]*x[3] + cov[2][3]*x[2]*x[3]) - \n",
    "              lamb*(B - x[0]-x[1]-x[2]-x[3])**2)\n",
    "    return H"
   ]
  },
  {
   "cell_type": "code",
   "execution_count": 20,
   "id": "c3aca21b",
   "metadata": {},
   "outputs": [
    {
     "data": {
      "text/plain": [
       "-0.6163532278155"
      ]
     },
     "execution_count": 20,
     "metadata": {},
     "output_type": "execute_result"
    }
   ],
   "source": [
    "energy([1,0,0,1])"
   ]
  },
  {
   "cell_type": "code",
   "execution_count": 21,
   "id": "596a7874",
   "metadata": {},
   "outputs": [],
   "source": [
    "def cost_function(param):\n",
    "    circuit=var_circuit(param[:int((len(param)/2))], \n",
    "                        param[(int(len(param)/2)):-1], \n",
    "                        num_layers=num_layers, \n",
    "                        num_qubits=num_qubits).to_circ()\n",
    "    \n",
    "    job = circuit.to_job()\n",
    "    result = get_default_qpu().submit(job)\n",
    "    states=[]\n",
    "    probs=[]\n",
    "    for sample in result:\n",
    "        #print(sample.state, sample.probability)\n",
    "        states.append(sample.state)\n",
    "        probs.append(sample.probability)\n",
    "    exp_value=0\n",
    "    for i in range(len(states)):\n",
    "        exp_value = exp_value + energy(states[i])*probs[i]\n",
    "        \n",
    "    return exp_value"
   ]
  },
  {
   "cell_type": "code",
   "execution_count": 22,
   "id": "99a89d90",
   "metadata": {},
   "outputs": [
    {
     "data": {
      "text/plain": [
       "0.6061766065486496"
      ]
     },
     "execution_count": 22,
     "metadata": {},
     "output_type": "execute_result"
    }
   ],
   "source": [
    "cost_function(np.zeros(2*num_layers+1))"
   ]
  },
  {
   "cell_type": "code",
   "execution_count": 23,
   "id": "dd9f2bf6",
   "metadata": {
    "scrolled": true
   },
   "outputs": [
    {
     "data": {
      "text/plain": [
       "'\\nfor k in range(num_try):\\n    \\n    num_layers=k\\n    Hmin = []\\n    prob1001 = []\\n    for i in range(num_seeds):\\n        np.random.seed(i)\\n        guess = np.random.random(2*num_layers+1)\\n        ret=scipy.optimize.minimize(cost_function, guess, args=(), method=\\'COBYLA\\', constraints=(), tol=None, callback=None, options={\\'rhobeg\\': 1.0, \\'maxiter\\': 1000, \\'disp\\': False, \\'catol\\': 0.0002})\\n        #optimizer = COBYLA(1000, 0.01)\\n        #ret = optimizer.optimize((2*num_layers+1), objective_function=cost_function, initial_point=guess)\\n        Hmin.append(ret[\\'fun\\'])\\n\\n        #guess=np.zeros(2*num_layers+1)\\n        #optimizer = COBYLA(2000, 0.01)\\n        #ret = optimizer.optimize((2*num_layers+1), objective_function=cost_function, initial_point=guess)\\n        #Hmin.append(ret[1])\\n\\n        check = var_circuit(ret[\\'x\\'][:int(len(ret[\\'x\\'])/2)], \\n                            ret[\\'x\\'][int(len(ret[\\'x\\'])/2):-1], \\n                            num_layers=num_layers, \\n                            num_qubits=num_qubits)\\n\\n\\n        circ=check.to_circ()\\n        job = circ.to_job()\\n        result = get_default_qpu().submit(job)\\n        states=[]\\n        probs=[]\\n        for sample in result:\\n            #print(sample.state, sample.probability)\\n            states.append(sample.state)\\n            probs.append(sample.probability)\\n        prob1001.append(probs[9])\\n\\n        #print(probs[9], ret[1])\\n    \\n    print(\"<H>min média dos 3 mín.:   \",np.mean(sorted(Hmin)[:n]), \"   PROB |1001> média 3 max.:   \",np.mean(sorted(prob1001)[-n:]))\\n    Hmin_med.append(np.mean(sorted(Hmin)[:n]))\\n    prob1001_med.append(np.mean(sorted(prob1001)[-n:]))\\n    matriz_Hmin.append(Hmin)\\n    matriz_prob1001.append(prob1001)\\n    \\n'"
      ]
     },
     "execution_count": 23,
     "metadata": {},
     "output_type": "execute_result"
    }
   ],
   "source": [
    "n=2\n",
    "Hmin_med = []\n",
    "prob1001_med = []\n",
    "num_seeds=10\n",
    "num_try = 20\n",
    "matriz_Hmin=[]\n",
    "matriz_prob1001 = []\n",
    "\n",
    "\"\"\"\n",
    "for k in range(num_try):\n",
    "    \n",
    "    num_layers=k\n",
    "    Hmin = []\n",
    "    prob1001 = []\n",
    "    for i in range(num_seeds):\n",
    "        np.random.seed(i)\n",
    "        guess = np.random.random(2*num_layers+1)\n",
    "        ret=scipy.optimize.minimize(cost_function, guess, args=(), method='COBYLA', constraints=(), tol=None, callback=None, options={'rhobeg': 1.0, 'maxiter': 1000, 'disp': False, 'catol': 0.0002})\n",
    "        #optimizer = COBYLA(1000, 0.01)\n",
    "        #ret = optimizer.optimize((2*num_layers+1), objective_function=cost_function, initial_point=guess)\n",
    "        Hmin.append(ret['fun'])\n",
    "\n",
    "        #guess=np.zeros(2*num_layers+1)\n",
    "        #optimizer = COBYLA(2000, 0.01)\n",
    "        #ret = optimizer.optimize((2*num_layers+1), objective_function=cost_function, initial_point=guess)\n",
    "        #Hmin.append(ret[1])\n",
    "\n",
    "        check = var_circuit(ret['x'][:int(len(ret['x'])/2)], \n",
    "                            ret['x'][int(len(ret['x'])/2):-1], \n",
    "                            num_layers=num_layers, \n",
    "                            num_qubits=num_qubits)\n",
    "\n",
    "\n",
    "        circ=check.to_circ()\n",
    "        job = circ.to_job()\n",
    "        result = get_default_qpu().submit(job)\n",
    "        states=[]\n",
    "        probs=[]\n",
    "        for sample in result:\n",
    "            #print(sample.state, sample.probability)\n",
    "            states.append(sample.state)\n",
    "            probs.append(sample.probability)\n",
    "        prob1001.append(probs[9])\n",
    "\n",
    "        #print(probs[9], ret[1])\n",
    "    \n",
    "    print(\"<H>min média dos 3 mín.:   \",np.mean(sorted(Hmin)[:n]), \"   PROB |1001> média 3 max.:   \",np.mean(sorted(prob1001)[-n:]))\n",
    "    Hmin_med.append(np.mean(sorted(Hmin)[:n]))\n",
    "    prob1001_med.append(np.mean(sorted(prob1001)[-n:]))\n",
    "    matriz_Hmin.append(Hmin)\n",
    "    matriz_prob1001.append(prob1001)\n",
    "    \n",
    "\"\"\""
   ]
  },
  {
   "cell_type": "code",
   "execution_count": 25,
   "id": "d86d731f",
   "metadata": {},
   "outputs": [],
   "source": [
    "melhor_seed = np.index(max(matriz_prob1001[-1]))\n",
    "\n",
    "import scipy\n",
    "from scipy import optimize\n",
    "num_layers=20\n",
    "np.random.seed(melhor_seed)\n",
    "guess = np.random.random(2*num_layers+1)\n",
    "ret=scipy.optimize.minimize(cost_function, guess, args=(), method='COBYLA', constraints=(), tol=None, callback=None, options={'rhobeg': 1.0, 'maxiter': 1000, 'disp': False, 'catol': 0.0002})\n"
   ]
  },
  {
   "cell_type": "code",
   "execution_count": null,
   "id": "4eb0cfa2",
   "metadata": {},
   "outputs": [],
   "source": [
    "ret"
   ]
  },
  {
   "cell_type": "code",
   "execution_count": null,
   "id": "a54ca166",
   "metadata": {},
   "outputs": [],
   "source": [
    "ret['fun']"
   ]
  },
  {
   "cell_type": "code",
   "execution_count": null,
   "id": "c2939511",
   "metadata": {
    "scrolled": false
   },
   "outputs": [],
   "source": [
    "check = var_circuit(ret['x'][:int(len(ret['x'])/2)], \n",
    "                    ret['x'][int(len(ret['x'])/2):-1], \n",
    "                    num_layers=num_layers, \n",
    "                    num_qubits=num_qubits)\n",
    "\n",
    "\n",
    "circ=check.to_circ()\n",
    "job = circ.to_job()\n",
    "result = get_default_qpu().submit(job)\n",
    "states=[]\n",
    "probs=[]\n",
    "for sample in result:\n",
    "    print(sample.state, sample.probability)\n",
    "    states.append(sample.state)\n",
    "    probs.append(sample.probability)\n",
    "    \n",
    "strings = ['0000','0001','0010','0011','0100','0101','0110','0111',\n",
    "           '1000','1001','1010','1011','1100','1101','1110','1111']\n",
    "x = np.arange(len(states))\n",
    "plt.bar(x, height=probs)\n",
    "plt.xticks(x, range(len(states)))\n",
    "plt.xlabel('Bitstring')\n",
    "plt.ylabel('Probabilidade')"
   ]
  },
  {
   "cell_type": "code",
   "execution_count": null,
   "id": "46f7dbf9",
   "metadata": {},
   "outputs": [],
   "source": [
    "probs[9]"
   ]
  },
  {
   "cell_type": "code",
   "execution_count": null,
   "id": "b694e650",
   "metadata": {
    "scrolled": true
   },
   "outputs": [],
   "source": [
    "width=1\n",
    "plt.bar(strings, probs, width=width, color='black')\n",
    "plt.xlabel('Autoestado', size=14)\n",
    "plt.ylabel('Probabilidade', size=14)\n",
    "plt.title('Distribuição de Probabilidades', size=14)\n",
    "plt.xticks(x, strings, rotation=60)\n"
   ]
  },
  {
   "cell_type": "code",
   "execution_count": null,
   "id": "3ee4aa2d",
   "metadata": {
    "scrolled": true
   },
   "outputs": [],
   "source": [
    "\n",
    "plt.xticks(range(len(prob1001_med)))\n",
    "plt.plot(range(len(prob1001_med)), prob1001_med, 'r-',linewidth = 2.5 )\n",
    "plt.title(\"Probabilidade média de medida da solução ótima\", size=14)\n",
    "plt.ylabel(r'$|\\langle\\psi|1001\\rangle|^2$', size=14)\n",
    "plt.xlabel(\"Número de camadas\", size=14)\n",
    "plt.axis([0, 19, 0, 1])\n",
    "plt.grid(True)"
   ]
  },
  {
   "cell_type": "code",
   "execution_count": null,
   "id": "c498a5f7",
   "metadata": {},
   "outputs": [],
   "source": [
    "len(Hmin_min)"
   ]
  },
  {
   "cell_type": "code",
   "execution_count": null,
   "id": "19254ccf",
   "metadata": {},
   "outputs": [],
   "source": [
    "plt.xticks(range(len(Hmin_med)))\n",
    "plt.plot(range(len(Hmin_med)), Hmin_med, 'r-',linewidth = 2.5)\n",
    "plt.plot(range(len(Hmin_med)),energy([1,0,0,1])*np.ones(len(Hmin_med)),'b--',linewidth = 1.5)\n",
    "plt.legend([[\"Valor esperado\"],[\"Referência\"]])\n",
    "#plt.scatter(range(len(Hmin_avg)), Hmin_avg, color='red')\n",
    "plt.title(\"Convergência do QAOA\", size=14)\n",
    "plt.ylabel(r'$F_p$', size=14)\n",
    "plt.xlabel(\"Número de camadas\", size=14)\n",
    "plt.axis([0, 19, -0.67, 0.70])\n",
    "plt.grid(True)"
   ]
  },
  {
   "cell_type": "code",
   "execution_count": null,
   "id": "3e5c9ccf",
   "metadata": {},
   "outputs": [],
   "source": [
    "print(Hmin_med)"
   ]
  },
  {
   "cell_type": "code",
   "execution_count": null,
   "id": "d85a6d7f",
   "metadata": {},
   "outputs": [],
   "source": [
    "print(prob1001_med)"
   ]
  },
  {
   "cell_type": "code",
   "execution_count": null,
   "id": "3f306dc8",
   "metadata": {},
   "outputs": [],
   "source": [
    "hmin_medio =  [0.6061766065486496, 0.17836510711779163, -0.14456893754867522, -0.2582313220602446, \n",
    "               -0.293773793987471, -0.40172953314634585, -0.40953743211484966, -0.4306572552154402, \n",
    "               -0.4861908610201873, -0.5073434406602844, -0.51758003073471, -0.5215805651251304, \n",
    "               -0.5516108644318953, -0.5524778373189512, -0.5606964937513081, -0.5719488399047072, \n",
    "               -0.573618300106951, -0.5800092726055128, -0.5844654751374043, -0.5859898404539589]\n",
    "\n",
    "prob1001_medio =  [0.045857881096816384, 0.04950216535612034, 0.06249999999999996, 0.20078178031034216, \n",
    "                   0.3583504192207148, 0.4061946180447342, 0.5052778284727155, 0.5764162853762655, \n",
    "                   0.5880398756134942, 0.6416258654280796, 0.6840318741543814, 0.6885280633291896, \n",
    "                   0.7602968015991218, 0.8088898547683037, 0.8265747456807642, 0.8704318581095074, \n",
    "                   0.8716188768429468, 0.8823196623298313, 0.8891028927946059, 0.926372334857174]"
   ]
  },
  {
   "cell_type": "code",
   "execution_count": null,
   "id": "744c33bb",
   "metadata": {},
   "outputs": [],
   "source": [
    "\n",
    "plt.xticks(range(len(prob1001_medio)))\n",
    "plt.plot(range(len(prob1001_medio)), prob1001_medio, 'r-',linewidth = 2.5 )\n",
    "plt.title(\"Probabilidade média de medida da solução ótima\", size=14)\n",
    "plt.ylabel(r'$|\\langle\\psi|1001\\rangle|^2$', size=14)\n",
    "plt.xlabel(\"Número de camadas\", size=14)\n",
    "plt.axis([0, 19, 0, 1])\n",
    "plt.grid(True)"
   ]
  },
  {
   "cell_type": "code",
   "execution_count": null,
   "id": "a49406d9",
   "metadata": {},
   "outputs": [],
   "source": [
    "plt.xticks(range(len(hmin_medio)))\n",
    "plt.plot(range(len(hmin_medio)), hmin_medio, 'r-',linewidth = 2.5)\n",
    "plt.plot(range(len(hmin_medio)),energy([1,0,0,1])*np.ones(len(hmin_medio)),'b--',linewidth = 1.5)\n",
    "plt.legend([[\"Valor esperado\"],[\"Referência\"]])\n",
    "#plt.scatter(range(len(Hmin_avg)), Hmin_avg, color='red')\n",
    "plt.title(\"Convergência do QAOA\", size=14)\n",
    "plt.ylabel(r'$F_p$', size=14)\n",
    "plt.xlabel(\"Número de camadas\", size=14)\n",
    "plt.axis([0, 19, -0.67, 0.70])\n",
    "plt.grid(True)"
   ]
  },
  {
   "cell_type": "code",
   "execution_count": null,
   "id": "03915e2a",
   "metadata": {},
   "outputs": [],
   "source": []
  }
 ],
 "metadata": {
  "kernelspec": {
   "display_name": "Python 3",
   "language": "python",
   "name": "python3"
  },
  "language_info": {
   "codemirror_mode": {
    "name": "ipython",
    "version": 3
   },
   "file_extension": ".py",
   "mimetype": "text/x-python",
   "name": "python",
   "nbconvert_exporter": "python",
   "pygments_lexer": "ipython3",
   "version": "3.8.8"
  }
 },
 "nbformat": 4,
 "nbformat_minor": 5
}
